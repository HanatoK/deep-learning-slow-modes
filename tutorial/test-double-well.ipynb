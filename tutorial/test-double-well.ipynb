{
 "cells": [
  {
   "cell_type": "markdown",
   "metadata": {},
   "source": [
    "# Deep learning the slow modes for rare events sampling\n",
    "\n",
    "**A tutorial on Deep-TICA CVs training** \n",
    "\n",
    "Luigi Bonati, 2021"
   ]
  },
  {
   "cell_type": "markdown",
   "metadata": {},
   "source": [
    "---\n",
    "This is a brief tutorial that describes how to train the Deep-TICA CVs from a biased simulation.\n",
    "We use a OPES-multithermal simulation of alanine dipeptide as example, using all distances between heavy atoms as input descriptors.\n",
    "\n",
    "**Reference**: \n",
    "\n",
    "Bonati, Piccini, and Parrinello. [\"Deep learning the slow modes for rare events sampling\"](https://arxiv.org/abs/2107.03943). _arXiv preprint_ arXiv:2107.03943 (2021).\n",
    "\n",
    "---\n",
    "\n",
    "**Outline**:\n",
    "\n",
    "1.  Load data\n",
    "2.  Preprocessing (rescale time)\n",
    "3.  Create training set\n",
    "4.  Train\n",
    "5.  Analysis\n",
    "6.  Export"
   ]
  },
  {
   "cell_type": "markdown",
   "metadata": {},
   "source": [
    "## Import "
   ]
  },
  {
   "cell_type": "markdown",
   "metadata": {},
   "source": [
    "**Requirements**: \n",
    "* numpy\n",
    "* pandas\n",
    "* torch\n",
    "* matplotlib\n",
    "* **mlcvs** (contained in this repository)"
   ]
  },
  {
   "cell_type": "code",
   "execution_count": 1,
   "metadata": {},
   "outputs": [],
   "source": [
    "import numpy as np\n",
    "import pandas as pd\n",
    "import torch\n",
    "import matplotlib.pyplot as plt\n",
    "import sys\n",
    "import os\n",
    "os.environ[\"CUDA_VISIBLE_DEVICES\"]=\"\"\n",
    "\n",
    "#add mlcvs to system path TODO\n",
    "sys.path.append('../')\n",
    "import mlcvs\n",
    "from mlcvs.io import load_colvar\n",
    "from mlcvs.tica import DeepTICA,create_tica_dataset\n",
    "from mlcvs.palette import cm_fessa\n",
    "from mlcvs.fes import compute_fes_1d, compute_fes_2d"
   ]
  },
  {
   "cell_type": "markdown",
   "metadata": {},
   "source": [
    "## 1. Load data"
   ]
  },
  {
   "cell_type": "markdown",
   "metadata": {},
   "source": [
    "We use the function `load_colvar` from `mlcvs.utils` that takes a PLUMED COLVAR file and returns a pandas dataframe. First we load the COLVAR file containing the data about the OPES-multicanonical simulation and then the COLVAR_DRIVER which contains the input descriptors calculated along the trajectories (the second step can be avoided if they are already present in the first file).\n",
    "\n",
    "We also discard the initial part of the simulation to put ourselves in the quasi-static regime, which is very quickly reached by OPES (it can be monitored by looking at the DELTAFS file for the multicanonical simulation).\n",
    "\n",
    "---\n",
    "\n",
    "| Parameter | Type | Description |\n",
    "| :- | :- | :- |\n",
    "| folder | str |files location |\n",
    "| from_time | float | discard initial part of the trajectories [time units] |\n",
    "| descriptor_filter | str |filter descriptors based on names |"
   ]
  },
  {
   "cell_type": "code",
   "execution_count": 2,
   "metadata": {},
   "outputs": [
    {
     "data": {
      "text/html": [
       "<div>\n",
       "<style scoped>\n",
       "    .dataframe tbody tr th:only-of-type {\n",
       "        vertical-align: middle;\n",
       "    }\n",
       "\n",
       "    .dataframe tbody tr th {\n",
       "        vertical-align: top;\n",
       "    }\n",
       "\n",
       "    .dataframe thead th {\n",
       "        text-align: right;\n",
       "    }\n",
       "</style>\n",
       "<table border=\"1\" class=\"dataframe\">\n",
       "  <thead>\n",
       "    <tr style=\"text-align: right;\">\n",
       "      <th></th>\n",
       "      <th>time</th>\n",
       "      <th>d.x</th>\n",
       "      <th>d.y</th>\n",
       "      <th>metad.bias</th>\n",
       "      <th>metad.rbias</th>\n",
       "      <th>uwall.bias</th>\n",
       "      <th>lwall.bias</th>\n",
       "    </tr>\n",
       "  </thead>\n",
       "  <tbody>\n",
       "    <tr>\n",
       "      <th>10001</th>\n",
       "      <td>500.05</td>\n",
       "      <td>-0.171267</td>\n",
       "      <td>0.236516</td>\n",
       "      <td>16.978032</td>\n",
       "      <td>-12.298114</td>\n",
       "      <td>0.0</td>\n",
       "      <td>0.0</td>\n",
       "    </tr>\n",
       "    <tr>\n",
       "      <th>10002</th>\n",
       "      <td>500.10</td>\n",
       "      <td>-0.182218</td>\n",
       "      <td>0.239625</td>\n",
       "      <td>14.668381</td>\n",
       "      <td>-14.607765</td>\n",
       "      <td>0.0</td>\n",
       "      <td>0.0</td>\n",
       "    </tr>\n",
       "    <tr>\n",
       "      <th>10003</th>\n",
       "      <td>500.15</td>\n",
       "      <td>-0.175313</td>\n",
       "      <td>0.223760</td>\n",
       "      <td>16.078866</td>\n",
       "      <td>-13.197280</td>\n",
       "      <td>0.0</td>\n",
       "      <td>0.0</td>\n",
       "    </tr>\n",
       "    <tr>\n",
       "      <th>10004</th>\n",
       "      <td>500.20</td>\n",
       "      <td>-0.168978</td>\n",
       "      <td>0.226014</td>\n",
       "      <td>17.465225</td>\n",
       "      <td>-11.810921</td>\n",
       "      <td>0.0</td>\n",
       "      <td>0.0</td>\n",
       "    </tr>\n",
       "    <tr>\n",
       "      <th>10005</th>\n",
       "      <td>500.25</td>\n",
       "      <td>-0.164438</td>\n",
       "      <td>0.217342</td>\n",
       "      <td>18.516219</td>\n",
       "      <td>-10.759926</td>\n",
       "      <td>0.0</td>\n",
       "      <td>0.0</td>\n",
       "    </tr>\n",
       "    <tr>\n",
       "      <th>...</th>\n",
       "      <td>...</td>\n",
       "      <td>...</td>\n",
       "      <td>...</td>\n",
       "      <td>...</td>\n",
       "      <td>...</td>\n",
       "      <td>...</td>\n",
       "      <td>...</td>\n",
       "    </tr>\n",
       "    <tr>\n",
       "      <th>102796</th>\n",
       "      <td>5139.80</td>\n",
       "      <td>0.226167</td>\n",
       "      <td>-0.307572</td>\n",
       "      <td>22.617492</td>\n",
       "      <td>-29.231288</td>\n",
       "      <td>0.0</td>\n",
       "      <td>0.0</td>\n",
       "    </tr>\n",
       "    <tr>\n",
       "      <th>102797</th>\n",
       "      <td>5139.85</td>\n",
       "      <td>0.200722</td>\n",
       "      <td>-0.286996</td>\n",
       "      <td>30.969915</td>\n",
       "      <td>-20.878864</td>\n",
       "      <td>0.0</td>\n",
       "      <td>0.0</td>\n",
       "    </tr>\n",
       "    <tr>\n",
       "      <th>102798</th>\n",
       "      <td>5139.90</td>\n",
       "      <td>0.164003</td>\n",
       "      <td>-0.274520</td>\n",
       "      <td>40.099837</td>\n",
       "      <td>-11.748943</td>\n",
       "      <td>0.0</td>\n",
       "      <td>0.0</td>\n",
       "    </tr>\n",
       "    <tr>\n",
       "      <th>102799</th>\n",
       "      <td>5139.95</td>\n",
       "      <td>0.136649</td>\n",
       "      <td>-0.258655</td>\n",
       "      <td>44.368391</td>\n",
       "      <td>-7.480388</td>\n",
       "      <td>0.0</td>\n",
       "      <td>0.0</td>\n",
       "    </tr>\n",
       "    <tr>\n",
       "      <th>102800</th>\n",
       "      <td>5140.00</td>\n",
       "      <td>0.114928</td>\n",
       "      <td>-0.249504</td>\n",
       "      <td>46.388424</td>\n",
       "      <td>-5.460355</td>\n",
       "      <td>0.0</td>\n",
       "      <td>0.0</td>\n",
       "    </tr>\n",
       "  </tbody>\n",
       "</table>\n",
       "<p>92800 rows × 7 columns</p>\n",
       "</div>"
      ],
      "text/plain": [
       "           time       d.x       d.y  metad.bias  metad.rbias  uwall.bias  \\\n",
       "10001    500.05 -0.171267  0.236516   16.978032   -12.298114         0.0   \n",
       "10002    500.10 -0.182218  0.239625   14.668381   -14.607765         0.0   \n",
       "10003    500.15 -0.175313  0.223760   16.078866   -13.197280         0.0   \n",
       "10004    500.20 -0.168978  0.226014   17.465225   -11.810921         0.0   \n",
       "10005    500.25 -0.164438  0.217342   18.516219   -10.759926         0.0   \n",
       "...         ...       ...       ...         ...          ...         ...   \n",
       "102796  5139.80  0.226167 -0.307572   22.617492   -29.231288         0.0   \n",
       "102797  5139.85  0.200722 -0.286996   30.969915   -20.878864         0.0   \n",
       "102798  5139.90  0.164003 -0.274520   40.099837   -11.748943         0.0   \n",
       "102799  5139.95  0.136649 -0.258655   44.368391    -7.480388         0.0   \n",
       "102800  5140.00  0.114928 -0.249504   46.388424    -5.460355         0.0   \n",
       "\n",
       "        lwall.bias  \n",
       "10001          0.0  \n",
       "10002          0.0  \n",
       "10003          0.0  \n",
       "10004          0.0  \n",
       "10005          0.0  \n",
       "...            ...  \n",
       "102796         0.0  \n",
       "102797         0.0  \n",
       "102798         0.0  \n",
       "102799         0.0  \n",
       "102800         0.0  \n",
       "\n",
       "[92800 rows x 7 columns]"
      ]
     },
     "execution_count": 2,
     "metadata": {},
     "output_type": "execute_result"
    }
   ],
   "source": [
    "#------------- PARAMETERS -------------\n",
    "folder            = 'test-double-well/'\n",
    "from_time         = 500.\n",
    "descriptor_filter = 'd'\n",
    "#--------------------------------------\n",
    "\n",
    "# Load files\n",
    "colvar = load_colvar(folder=folder,filename='COLVAR')\n",
    "# descr = load_colvar(folder=folder,filename='COLVAR_DRIVER')\n",
    "\n",
    "# Concatenate without duplicates\n",
    "# colvar = pd.concat([colvar, descr[[i for i in descr.columns if (i not in colvar.columns)]]], axis=1)\n",
    "\n",
    "# Discard initial part of trajectory\n",
    "\n",
    "colvar = colvar[ colvar['time']>from_time ]\n",
    "\n",
    "# Descriptors \n",
    "X = colvar.filter(regex=descriptor_filter).values\n",
    "X = colvar[['d.x', 'd.y']].values\n",
    "n_input = X.shape[1]\n",
    "\n",
    "colvar"
   ]
  },
  {
   "cell_type": "code",
   "execution_count": 3,
   "metadata": {},
   "outputs": [
    {
     "name": "stdout",
     "output_type": "stream",
     "text": [
      "[[-0.171267  0.236516]\n",
      " [-0.182218  0.239625]\n",
      " [-0.175313  0.22376 ]\n",
      " ...\n",
      " [ 0.164003 -0.27452 ]\n",
      " [ 0.136649 -0.258655]\n",
      " [ 0.114928 -0.249504]]\n",
      "92800\n"
     ]
    }
   ],
   "source": [
    "print(X)\n",
    "print(len(X))"
   ]
  },
  {
   "cell_type": "markdown",
   "metadata": {},
   "source": [
    "## 2. Preprocessing (rescale time)"
   ]
  },
  {
   "cell_type": "markdown",
   "metadata": {},
   "source": [
    "Here we extract the time $t$, the energy $E$ (needed for the multicanonical reweight [1]) and the bias $V$ from the COLVAR file. We then calculate the weights as:\n",
    "\n",
    "\\begin{cases}\n",
    "    w = e^{\\beta\\ V + (\\beta_0-\\beta)\\ E} & \\text{if multicanonical}\\\\\n",
    "    w = e^{\\beta\\ V}              & \\text{otherwise}\n",
    "\\end{cases}\n",
    "\n",
    "NB: note that if simulation temperature $\\beta_0$ is equal to the reweighting one $\\beta$ the multicanonical reweight coincides with the standard umbrella sampling-like case.\n",
    "\n",
    "Once we have computed the weights, we rescale the time at step $k$ by using the instantaneus acceleration:\n",
    "\n",
    "$$ dt'_k = w_k\\ dt $$\n",
    "\n",
    "and then compute the cumulative rescaled time:\n",
    "\n",
    "$$ t'_k = \\sum_{i=0} ^k dt'_i $$\n",
    "\n",
    "\n",
    "\n",
    "[1] Invernizzi, Piaggi, and Parrinello. \"Unified approach to enhanced sampling.\" _Physical Review X_ 10.4 (2020): 041034.\n",
    "\n",
    "\n",
    "---\n",
    "\n",
    "| Parameter | Type | Description |\n",
    "| :- | :- | :- |\n",
    "| multicanonical | bool | flag to determine if using a standard reweight (false) or a multicanonical one (true) |\n",
    "| temp | float | reweighting temperature |\n",
    "| temp0 | float | simulation temperature (only needed if multicanonical == True) |\n",
    "\n",
    "\n"
   ]
  },
  {
   "cell_type": "code",
   "execution_count": 4,
   "metadata": {},
   "outputs": [
    {
     "name": "stdout",
     "output_type": "stream",
     "text": [
      "0.05\n",
      "[ 4.679918  0.060616  2.881586 ... 28.350894 36.888003 40.928069]\n",
      "[6.52943400e+00 7.55403450e+00 1.07290570e+01 ... 5.31023645e+13\n",
      " 5.31023672e+13 5.31023806e+13]\n",
      "[3.26471700e-01 3.77701725e-01 5.36452852e-01 ... 2.65511823e+12\n",
      " 2.65511836e+12 2.65511903e+12]\n",
      "[ 500.05  500.1   500.15 ... 5139.9  5139.95 5140.  ]\n"
     ]
    }
   ],
   "source": [
    "#------------- PARAMETERS -------------\n",
    "multicanonical    = False\n",
    "temp              = 300.\n",
    "temp0             = 300.\n",
    "#--------------------------------------\n",
    "\n",
    "# Calculate inverse temperature\n",
    "kb=0.008314\n",
    "beta=1./(kb*temp)\n",
    "beta0=1./(kb*temp0)\n",
    "\n",
    "# Extract cvs from df\n",
    "\n",
    "t = colvar['time'].values # save time\n",
    "# ene = colvar['ene'].values.astype(np.float64) # store energy as long double\n",
    "bias = colvar.filter(regex='.bias').values.sum(axis=1) # Load *.bias columns and sum them\n",
    "\n",
    "# Compute log-weights for time reweighting\n",
    "logweight = beta*bias\n",
    "\n",
    "if multicanonical:\n",
    "    ene -= np.mean(ene) #first shift energy by its mean value\n",
    "    logweight += (beta0-beta)*ene\n",
    "\n",
    "## Time rescaling\n",
    "\n",
    "# compute time increment in simulation time t\n",
    "dt = np.round(t[1]-t[0],3)\n",
    "\n",
    "# compute instantaneus time increment in rescaled time t'\n",
    "d_tprime = np.copy(np.exp(logweight)*dt)\n",
    "\n",
    "#calculate cumulative time tau\n",
    "tprime = np.cumsum(d_tprime)\n",
    "print(dt)\n",
    "print(bias)\n",
    "print(np.cumsum(np.exp(beta*bias)))\n",
    "print(tprime)\n",
    "print(t)"
   ]
  },
  {
   "cell_type": "markdown",
   "metadata": {},
   "source": [
    "## 3. Create training set"
   ]
  },
  {
   "cell_type": "markdown",
   "metadata": {},
   "source": [
    "In order to train the Deep-TICA CVs we will need to compute the time-lagged covariance matrices in the rescaled time $t'$. The standard way is to look for configurations which are distant a lag-time $\\tau$ in the time series. However, in the rescaled time the time-series is _exponentially_ unevenly spaced. Hence, a naive search will lead to severe numerical issue. To address this, we use the algorithm proposed in [2]. In a nutshell, this method assume that the observable $O(t'_k)$ have the same value from scaled time $t'_k$ to $t'_{k+1}$. This leads to weighting each pair of configurations based both on the rescaled time around $t'_k$ and $t'_k+\\tau$ (see supp. information of [2] for details). All of this is done under the hood by the function `mlcvs.tica.look_for_configurations`. \n",
    "\n",
    "To generate the the training and validation set, we use the function `create_tica_dataset` which searches for the pairs of configurations and the corresponding weight, and save them in datasets for training/validation\n",
    "\n",
    "[2] Yang and Parrinello. \"Refining collective coordinates and improving free energy representation in variational enhanced sampling.\" _Journal of chemical theory and computation_ 14.6 (2018): 2889-2894.\n",
    "\n",
    "---\n",
    "\n",
    "| Parameter | Type | Description |\n",
    "| :- | :- | :- |\n",
    "| lag_time | float | lag_time for the calculation of the covariance matrices [in rescaled time] |\n",
    "| n_train | int | number of training configurations |\n",
    "| n_valid | int | number of validation configurations |\n",
    "| batch_tr | int | number of configurations per batch (-1 equals single batch) |\n"
   ]
  },
  {
   "cell_type": "code",
   "execution_count": 5,
   "metadata": {},
   "outputs": [
    {
     "name": "stdout",
     "output_type": "stream",
     "text": [
      "[SPLIT DATASET]\n",
      "- Training points = 80000\n",
      "- Search (x_t,x_t+lag) with lag time = 0.1\n",
      "- Found n_pairs = 159990\n",
      "- Batch size = 159990\n",
      "- N batches = 1\n"
     ]
    },
    {
     "name": "stderr",
     "output_type": "stream",
     "text": [
      "/home/hanatok/HDD/software/deep-learning-slow-modes/tutorial/../mlcvs/tica.py:548: UserWarning: Creating a tensor from a list of numpy.ndarrays is extremely slow. Please consider converting the list to a single numpy.ndarray with numpy.array() before converting to a tensor. (Triggered internally at  /home/conda/feedstock_root/build_artifacts/pytorch-recipe_1654800966673/work/torch/csrc/utils/tensor_new.cpp:207.)\n",
      "  x_t = torch.Tensor(x_t)\n"
     ]
    }
   ],
   "source": [
    "#------------- PARAMETERS -------------\n",
    "lag_time = 0.1\n",
    "n_train  = 80000\n",
    "n_valid  = 20000\n",
    "batch_tr = -1\n",
    "#--------------------------------------\n",
    "\n",
    "# Create train and valid dataset\n",
    "train_data,valid_data = create_tica_dataset(X, \n",
    "                                            tprime,\n",
    "                                            lag_time=lag_time,\n",
    "                                            n_train=n_train,\n",
    "                                            n_valid=n_valid,\n",
    "                                            batch_tr=batch_tr,\n",
    "                                            every=1)"
   ]
  },
  {
   "cell_type": "code",
   "execution_count": 6,
   "metadata": {},
   "outputs": [
    {
     "name": "stdout",
     "output_type": "stream",
     "text": [
      "[(tensor([[-0.1713,  0.2365],\n",
      "        [-0.1822,  0.2396],\n",
      "        [-0.1822,  0.2396],\n",
      "        ...,\n",
      "        [-0.1430,  0.3163],\n",
      "        [-0.1212,  0.3125],\n",
      "        [-0.1212,  0.3125]]), tensor([[-0.1822,  0.2396],\n",
      "        [-0.1822,  0.2396],\n",
      "        [-0.1753,  0.2238],\n",
      "        ...,\n",
      "        [-0.1212,  0.3125],\n",
      "        [-0.1212,  0.3125],\n",
      "        [-0.1394,  0.3214]]), tensor([5.1230e-02, 7.9376e-02, 7.9376e-02,  ..., 4.5159e+05, 7.1060e+04,\n",
      "        7.1060e+04]), tensor([5.1230e-02, 5.8751e-02, 1.0000e-01,  ..., 1.0010e-01, 1.4212e+05,\n",
      "        1.0010e-01]))]\n"
     ]
    }
   ],
   "source": [
    "print(train_data)"
   ]
  },
  {
   "cell_type": "markdown",
   "metadata": {},
   "source": [
    "## 4. Train"
   ]
  },
  {
   "cell_type": "markdown",
   "metadata": {},
   "source": [
    "Here we setup a few parameters and then train the Deep-TICA CVs. We first instantiate a object of the `DeepTICA` class which defines the NN but also the loss function and a train loop. See class documentation for further details about parameters and methods.\n",
    "\n",
    "---\n",
    "\n",
    "| Parameter | Type | Description |\n",
    "| :- | :- | :- |\n",
    "| **Neural network** |\n",
    "| nodes | list | NN architecture (last value equal to the number of hidden layers which are input of TICA  |\n",
    "| activ_type | string | Activation function (relu,tanh,elu,linear) |\n",
    "| loss_type | string | Loss function operating on the TICA eigenvalues (sum2,sum,single)|\n",
    "| n_eig | int | Number of eigenvalues to optimize (or if loss_type=single which one to select) |\n",
    "| **Optimization** |\n",
    "| lrate | float | Learning rate |\n",
    "| l2_reg | float | L2 regularization |\n",
    "| num_epochs | int | Number of epochs |\n",
    "| **Early Stopping** |\n",
    "| earlystop | bool | Whether to use early stopping based on validation loss |\n",
    "| es_patience | int | Number of epochs before stopping |\n",
    "| es_consecutive | bool | Whether es_patience should count consecutive (True) or cumulative patience |\n",
    "| **Log** |\n",
    "| log_every | int | How often print the train/valid loss during training |\n"
   ]
  },
  {
   "cell_type": "code",
   "execution_count": 21,
   "metadata": {},
   "outputs": [
    {
     "name": "stdout",
     "output_type": "stream",
     "text": [
      "================INFO================\n",
      "[MODEL]\n",
      "DeepTICA(\n",
      "  (nn): Sequential(\n",
      "    (0): Linear(in_features=2, out_features=30, bias=True)\n",
      "    (1): Tanh()\n",
      "    (2): Linear(in_features=30, out_features=30, bias=True)\n",
      "    (3): Tanh()\n",
      "    (4): Linear(in_features=30, out_features=1, bias=True)\n",
      "  )\n",
      ")\n",
      "\n",
      "[OPTIMIZER]\n",
      "Adam (\n",
      "Parameter Group 0\n",
      "    amsgrad: False\n",
      "    betas: (0.9, 0.999)\n",
      "    eps: 1e-08\n",
      "    lr: 0.001\n",
      "    maximize: False\n",
      "    weight_decay: 0\n",
      ")\n",
      "\n",
      "[PARAMETERS]\n",
      "{'device': device(type='cpu'), 'Early Stopping': True, 'LR scheduler': False, 'Input standardization': True, 'Output standardization': False, '# epochs': 0}\n",
      "====================================\n",
      "Epoch Train Loss  Valid Loss  Eigenvalues             \n",
      "5     -1.0000     -1.0000     1.000  \n",
      "10    -1.0000     -1.0000     1.000  \n",
      "15    -1.0000     -1.0000     1.000  \n",
      "20    -1.0000     -1.0000     1.000  \n",
      "25    -1.0000     -1.0000     1.000  \n",
      "30    -1.0000     -1.0000     1.000  \n",
      "INFO: Early stopping\n",
      "31    -1.0000     -1.0000     1.000  \n"
     ]
    }
   ],
   "source": [
    "#------------- PARAMETERS -------------\n",
    "nodes             = [n_input,30,30,1]\n",
    "activ_type        = 'tanh'\n",
    "loss_type         = 'sum2'\n",
    "n_eig             = 1\n",
    "\n",
    "num_epochs        = 1000\n",
    "\n",
    "lrate             = 1e-3\n",
    "l2_reg            = 0.\n",
    "\n",
    "earlystop         = True\n",
    "es_patience       = 20\n",
    "es_consecutive    = True\n",
    "\n",
    "log_every         = 5\n",
    "#--------------------------------------\n",
    "\n",
    "# MODEL\n",
    "model = DeepTICA(nodes, activ_type)\n",
    "\n",
    "# OPTIMIZER\n",
    "opt = torch.optim.Adam(model.parameters(), lr=lrate, weight_decay=0)\n",
    "\n",
    "# REGULARIZATION\n",
    "model.set_optimizer(opt)\n",
    "model.set_earlystopping(patience=30,min_delta=0.001,consecutive=True,save_best_model=True,log=False)\n",
    "\n",
    "# TRAIN\n",
    "model.train(train_data,valid_data,\n",
    "            standardize_inputs=True,\n",
    "            standardize_outputs=True,\n",
    "            loss_type=loss_type,\n",
    "            n_eig=n_eig,\n",
    "            nepochs=num_epochs,\n",
    "            info=True,log_every=log_every)"
   ]
  },
  {
   "cell_type": "markdown",
   "metadata": {},
   "source": [
    "## 5. Analysis"
   ]
  },
  {
   "cell_type": "markdown",
   "metadata": {},
   "source": [
    "In this section we analyze training and the resulting Deep-TICA CVs."
   ]
  },
  {
   "cell_type": "markdown",
   "metadata": {},
   "source": [
    "**Learning curves**"
   ]
  },
  {
   "cell_type": "code",
   "execution_count": 22,
   "metadata": {},
   "outputs": [
    {
     "ename": "TypeError",
     "evalue": "'>' not supported between instances of 'float' and 'NoneType'",
     "output_type": "error",
     "traceback": [
      "\u001b[0;31m---------------------------------------------------------------------------\u001b[0m",
      "\u001b[0;31mTypeError\u001b[0m                                 Traceback (most recent call last)",
      "Input \u001b[0;32mIn [22]\u001b[0m, in \u001b[0;36m<cell line: 17>\u001b[0;34m()\u001b[0m\n\u001b[1;32m     17\u001b[0m \u001b[38;5;28;01mfor\u001b[39;00m ax \u001b[38;5;129;01min\u001b[39;00m axs:\n\u001b[1;32m     18\u001b[0m     \u001b[38;5;28;01mif\u001b[39;00m model\u001b[38;5;241m.\u001b[39mearlystopping_\u001b[38;5;241m.\u001b[39mearly_stop:\n\u001b[0;32m---> 19\u001b[0m         \u001b[43max\u001b[49m\u001b[38;5;241;43m.\u001b[39;49m\u001b[43maxvline\u001b[49m\u001b[43m(\u001b[49m\u001b[43mmodel\u001b[49m\u001b[38;5;241;43m.\u001b[39;49m\u001b[43mearlystopping_\u001b[49m\u001b[38;5;241;43m.\u001b[39;49m\u001b[43mbest_epoch\u001b[49m\u001b[43m,\u001b[49m\u001b[43mls\u001b[49m\u001b[38;5;241;43m=\u001b[39;49m\u001b[38;5;124;43m'\u001b[39;49m\u001b[38;5;124;43mdotted\u001b[39;49m\u001b[38;5;124;43m'\u001b[39;49m\u001b[43m,\u001b[49m\u001b[43mcolor\u001b[49m\u001b[38;5;241;43m=\u001b[39;49m\u001b[38;5;124;43m'\u001b[39;49m\u001b[38;5;124;43mgrey\u001b[39;49m\u001b[38;5;124;43m'\u001b[39;49m\u001b[43m,\u001b[49m\u001b[43malpha\u001b[49m\u001b[38;5;241;43m=\u001b[39;49m\u001b[38;5;241;43m0.5\u001b[39;49m\u001b[43m,\u001b[49m\u001b[43mlabel\u001b[49m\u001b[38;5;241;43m=\u001b[39;49m\u001b[38;5;124;43m'\u001b[39;49m\u001b[38;5;124;43mEarly Stopping\u001b[39;49m\u001b[38;5;124;43m'\u001b[39;49m\u001b[43m)\u001b[49m\n\u001b[1;32m     20\u001b[0m         ax\u001b[38;5;241m.\u001b[39mset_xlabel(\u001b[38;5;124m'\u001b[39m\u001b[38;5;124m#Epochs\u001b[39m\u001b[38;5;124m'\u001b[39m)\n\u001b[1;32m     21\u001b[0m         ax\u001b[38;5;241m.\u001b[39mlegend(ncol\u001b[38;5;241m=\u001b[39m\u001b[38;5;241m2\u001b[39m)\n",
      "File \u001b[0;32m~/mambaforge/lib/python3.10/site-packages/matplotlib/axes/_axes.py:801\u001b[0m, in \u001b[0;36mAxes.axvline\u001b[0;34m(self, x, ymin, ymax, **kwargs)\u001b[0m\n\u001b[1;32m    799\u001b[0m \u001b[38;5;66;03m# Strip away the units for comparison with non-unitized bounds.\u001b[39;00m\n\u001b[1;32m    800\u001b[0m xx, \u001b[38;5;241m=\u001b[39m \u001b[38;5;28mself\u001b[39m\u001b[38;5;241m.\u001b[39m_process_unit_info([(\u001b[38;5;124m\"\u001b[39m\u001b[38;5;124mx\u001b[39m\u001b[38;5;124m\"\u001b[39m, x)], kwargs)\n\u001b[0;32m--> 801\u001b[0m scalex \u001b[38;5;241m=\u001b[39m (\u001b[43mxx\u001b[49m\u001b[43m \u001b[49m\u001b[38;5;241;43m<\u001b[39;49m\u001b[43m \u001b[49m\u001b[43mxmin\u001b[49m) \u001b[38;5;129;01mor\u001b[39;00m (xx \u001b[38;5;241m>\u001b[39m xmax)\n\u001b[1;32m    803\u001b[0m trans \u001b[38;5;241m=\u001b[39m \u001b[38;5;28mself\u001b[39m\u001b[38;5;241m.\u001b[39mget_xaxis_transform(which\u001b[38;5;241m=\u001b[39m\u001b[38;5;124m'\u001b[39m\u001b[38;5;124mgrid\u001b[39m\u001b[38;5;124m'\u001b[39m)\n\u001b[1;32m    804\u001b[0m l \u001b[38;5;241m=\u001b[39m mlines\u001b[38;5;241m.\u001b[39mLine2D([x, x], [ymin, ymax], transform\u001b[38;5;241m=\u001b[39mtrans, \u001b[38;5;241m*\u001b[39m\u001b[38;5;241m*\u001b[39mkwargs)\n",
      "\u001b[0;31mTypeError\u001b[0m: '>' not supported between instances of 'float' and 'NoneType'"
     ]
    },
    {
     "data": {
      "image/png": "[encoded data removed]",
      "text/plain": [
       "<Figure size 1200x500 with 2 Axes>"
      ]
     },
     "metadata": {
      "needs_background": "light"
     },
     "output_type": "display_data"
    }
   ],
   "source": [
    "fig, axs = plt.subplots(1,2,figsize=(12,5),dpi=100)\n",
    "\n",
    "# Loss function\n",
    "ax = axs[0]\n",
    "ax.plot(model.loss_train,'-',label='Train')\n",
    "ax.plot(model.loss_valid,'--',label='Valid')\n",
    "ax.set_ylabel('Loss Function')\n",
    "\n",
    "# Eigenvalues vs epoch\n",
    "ax = axs[1]\n",
    "evals_train = np.asarray(torch.cat(model.evals_train))\n",
    "for i in range(n_eig):\n",
    "    ax.plot(evals_train[:,i],label='Eig. '+str(i+1))\n",
    "ax.set_ylabel('Eigenvalues')\n",
    "\n",
    "# Common setup\n",
    "for ax in axs:\n",
    "    if model.earlystopping_.early_stop:\n",
    "        ax.axvline(model.earlystopping_.best_epoch,ls='dotted',color='grey',alpha=0.5,label='Early Stopping')\n",
    "        ax.set_xlabel('#Epochs')\n",
    "        ax.legend(ncol=2)\n",
    "\n",
    "plt.tight_layout()\n",
    "plt.show()"
   ]
  },
  {
   "cell_type": "markdown",
   "metadata": {},
   "source": [
    "**CVs isolines in physical space**"
   ]
  },
  {
   "cell_type": "code",
   "execution_count": 23,
   "metadata": {},
   "outputs": [
    {
     "data": {
      "image/png": "[encoded data removed]",
      "text/plain": [
       "<Figure size 600x500 with 2 Axes>"
      ]
     },
     "metadata": {
      "needs_background": "light"
     },
     "output_type": "display_data"
    }
   ],
   "source": [
    "# Hexbin plot in physical space    \n",
    "fig,axs = plt.subplots(1,n_eig,figsize=(6*n_eig,5),dpi=100)\n",
    "\n",
    "# x = colvar['d.x'].values\n",
    "# y = colvar['d.y'].values\n",
    "nx = 200\n",
    "ny = 200\n",
    "x = np.linspace(-3.5, 3.5, nx + 1)\n",
    "y = np.linspace(-3.5, 3.5, ny + 1)\n",
    "x = (x[1:] + x[:-1]) / 2\n",
    "y = (y[1:] + y[:-1]) / 2\n",
    "xx, yy = np.meshgrid(x, y, indexing='ij')\n",
    "encoder_input = list()\n",
    "for i in range(0, nx):\n",
    "    for j in range(0, ny):\n",
    "        encoder_input.append([xx[i, j], yy[i, j]])\n",
    "\n",
    "# compute cvs\n",
    "with torch.no_grad():\n",
    "    s = model(torch.Tensor(encoder_input)).numpy()\n",
    "    \n",
    "for i,ax in enumerate([axs]):\n",
    "    pp = ax.contourf(xx,yy,s.reshape(nx,ny),levels=41,cmap='viridis')\n",
    "    cbar = plt.colorbar(pp,ax=ax)\n",
    "    ax.set_title('Deep-TICA '+str(i+1))\n",
    "    ax.set_xlabel(r'X')\n",
    "    ax.set_ylabel(r'Y')\n",
    "    cbar.set_label('Deep-TICA '+str(i+1))\n",
    "\n",
    "plt.tight_layout()\n",
    "plt.show()"
   ]
  },
  {
   "cell_type": "markdown",
   "metadata": {},
   "source": [
    "**Free energy profile along Deep-TICA CVs**"
   ]
  },
  {
   "cell_type": "markdown",
   "metadata": {},
   "source": [
    "Note that, since in the exploratory multithermal simulation only a few recrossing between the states were observed, the free energy estimate is very noisy, especially in the transition region where almost no points were recorded."
   ]
  },
  {
   "cell_type": "code",
   "execution_count": 24,
   "metadata": {},
   "outputs": [
    {
     "data": {
      "image/png": "[encoded data removed]",
      "text/plain": [
       "<Figure size 800x350 with 2 Axes>"
      ]
     },
     "metadata": {
      "needs_background": "light"
     },
     "output_type": "display_data"
    }
   ],
   "source": [
    "fig,axs = plt.subplots(1,n_eig+1,figsize=(4*(n_eig+1),3.5),dpi=100)\n",
    "\n",
    "# compute cvs\n",
    "with torch.no_grad():\n",
    "    s = model(torch.Tensor(X)).numpy()\n",
    "\n",
    "fes_cutoff = 50\n",
    "\n",
    "# FES 1D\n",
    "for i,ax in enumerate(axs[1:]):\n",
    "    grid,fes = compute_fes_1d(s[:,i],logweights=logweight,kbt=kb*temp,sigma=0.02,extent=(-1,1),grid_bin=100)\n",
    "    fes[fes>fes_cutoff] = np.nan\n",
    "    ax.plot(grid,fes)\n",
    "    ax.set_xlabel('Deep-TICA '+str(i+1))\n",
    "    ax.set_ylabel('FES [kJ/mol]')\n",
    "    \n",
    "plt.tight_layout()\n",
    "plt.show()"
   ]
  },
  {
   "cell_type": "markdown",
   "metadata": {},
   "source": [
    "## 6. Export"
   ]
  },
  {
   "cell_type": "markdown",
   "metadata": {},
   "source": [
    "In order to use the trained Deep-TICA CVs for enhanced sampling we export the model using torchscript, which allow to load the model in PLUMED via the C++ torch library (libtorch). Please see the tutorial about the [DeepLDA CVs](https://colab.research.google.com/github/luigibonati/data-driven-CVs/blob/master/code/Tutorial%20-%20DeepLDA%20training.ipynb#scrollTo=F7qSDdBGn8Vv) for instructions about how to configure PLUMED and install the PLUMED-torch interface."
   ]
  },
  {
   "cell_type": "code",
   "execution_count": 15,
   "metadata": {},
   "outputs": [
    {
     "name": "stdout",
     "output_type": "stream",
     "text": [
      "@@ checkpoint:  test-myself/deepticatorch_checkpoint.pt\n",
      "@@ traced torchscript model (for C++) in:  test-myself/deepticamodel_deeptica.pt\n"
     ]
    }
   ],
   "source": [
    "# specify folder name and create folder\n",
    "save_folder = folder + \"deeptica\"\n",
    "!mkdir -p {save_folder}\n",
    "\n",
    "# export checkpoint (for loading the model back to python) and torchscript traced module\n",
    "model.export(save_folder)"
   ]
  },
  {
   "cell_type": "code",
   "execution_count": null,
   "metadata": {},
   "outputs": [],
   "source": []
  }
 ],
 "metadata": {
  "kernelspec": {
   "display_name": "Python 3 (ipykernel)",
   "language": "python",
   "name": "python3"
  },
  "language_info": {
   "codemirror_mode": {
    "name": "ipython",
    "version": 3
   },
   "file_extension": ".py",
   "mimetype": "text/x-python",
   "name": "python",
   "nbconvert_exporter": "python",
   "pygments_lexer": "ipython3",
   "version": "3.10.5"
  }
 },
 "nbformat": 4,
 "nbformat_minor": 4
}
